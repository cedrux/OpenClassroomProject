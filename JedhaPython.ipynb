{
  "nbformat": 4,
  "nbformat_minor": 0,
  "metadata": {
    "colab": {
      "provenance": [],
      "authorship_tag": "ABX9TyPGs1Rf1f+DkWEGwK4gcwfY",
      "include_colab_link": true
    },
    "kernelspec": {
      "name": "python3",
      "display_name": "Python 3"
    },
    "language_info": {
      "name": "python"
    }
  },
  "cells": [
    {
      "cell_type": "markdown",
      "metadata": {
        "id": "view-in-github",
        "colab_type": "text"
      },
      "source": [
        "<a href=\"https://colab.research.google.com/github/cedrux/OpenClassroomProject/blob/master/JedhaPython.ipynb\" target=\"_parent\"><img src=\"https://colab.research.google.com/assets/colab-badge.svg\" alt=\"Open In Colab\"/></a>"
      ]
    },
    {
      "cell_type": "code",
      "execution_count": 25,
      "metadata": {
        "colab": {
          "base_uri": "https://localhost:8080/"
        },
        "id": "Q6ijl4rZc9Rv",
        "outputId": "f9577943-73b4-4e01-e30c-479f90fea182"
      },
      "outputs": [
        {
          "output_type": "stream",
          "name": "stdout",
          "text": [
            "What are the name of your friends, plesa use a coma !ced,lisa\n",
            "How much doest they spend a week200,400,600\n",
            "list of friends not egal list of amont\n",
            "[(['ced', 'lisa'], ['200', '400', '600'])]\n"
          ]
        }
      ],
      "source": [
        "friends = input(\"What are the name of your friends, plesa use a coma !\")\n",
        "amount = input(\"How much doest they spend a week\")\n",
        "\n",
        "list_of_friends = friends.split(\",\")\n",
        "list_of_amount = amount.split(\",\")\n",
        "\n",
        "#,(list_of_friends,list_of_amount)\n",
        "\n",
        "if len(list_of_friends) == len(list_of_amount) and len(list_of_friends) == 2:\n",
        "  friends = [(list_of_friends,list_of_amount)]\n",
        "  print(friends)\n",
        "elif len(list_of_friends) > len(list_of_amount):\n",
        "  print(\"list of friends > list of amont\")\n",
        "\n",
        "else:\n",
        "  print(\"list of friends not egal list of amont\")\n",
        "  friends = [(list_of_friends,list_of_amount)]\n",
        "  print(friends)"
      ]
    },
    {
      "cell_type": "code",
      "source": [
        "a = 6\n",
        "b = 2\n",
        "print (a + b)\n",
        "if a == 10:\n",
        "  print (\"a = 10\")\n",
        "elif b > a:\n",
        "  print(\"b > 10\")\n",
        "else:\n",
        "    print(\"a not egual 10 and b not > a\" )\n",
        ""
      ],
      "metadata": {
        "colab": {
          "base_uri": "https://localhost:8080/"
        },
        "id": "0G4WmcdvgPSd",
        "outputId": "966fe1fe-827b-4b2b-d048-fafe97ec1ab9"
      },
      "execution_count": 10,
      "outputs": [
        {
          "output_type": "stream",
          "name": "stdout",
          "text": [
            "8\n",
            "a not egual 10\n"
          ]
        }
      ]
    },
    {
      "cell_type": "code",
      "source": [
        "items = [\"hello\",\"from\",\"jedha\"]\n",
        "for i in items:\n",
        "  print(i)"
      ],
      "metadata": {
        "colab": {
          "base_uri": "https://localhost:8080/"
        },
        "id": "R_bOl6De1km4",
        "outputId": "6a5aac2b-d605-4839-abd8-6e21103a1a27"
      },
      "execution_count": 26,
      "outputs": [
        {
          "output_type": "stream",
          "name": "stdout",
          "text": [
            "hello\n",
            "from\n",
            "jedha\n"
          ]
        }
      ]
    },
    {
      "cell_type": "code",
      "source": [
        "items2 = [\"hello\",\"from\",\"jedha\",\"from\",\"france\"]\n",
        "lenght = len(items2)\n",
        "for i in range(lenght):\n",
        "  print(items2[i])"
      ],
      "metadata": {
        "colab": {
          "base_uri": "https://localhost:8080/"
        },
        "id": "F6cyxbx14xPO",
        "outputId": "b2c7bf05-ef5f-42ab-bfdc-6ac9bdd60bc2"
      },
      "execution_count": 29,
      "outputs": [
        {
          "output_type": "stream",
          "name": "stdout",
          "text": [
            "hello\n",
            "from\n",
            "jedha\n",
            "from\n",
            "france\n"
          ]
        }
      ]
    },
    {
      "cell_type": "code",
      "source": [
        "items3 = [\"hello\",\"from\",\"jedha\",\"from\",\"france\"]\n",
        "lenght = len(items2)\n",
        "for i in range(lenght):\n",
        "  print(items2[i])"
      ],
      "metadata": {
        "id": "nZkI0VD95wWG"
      },
      "execution_count": null,
      "outputs": []
    }
  ]
}